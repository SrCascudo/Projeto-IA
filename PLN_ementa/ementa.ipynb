{
  "nbformat": 4,
  "nbformat_minor": 0,
  "metadata": {
    "colab": {
      "name": "ementa.ipynb",
      "provenance": [],
      "collapsed_sections": [
        "QRyJFd0WgT2K"
      ],
      "toc_visible": true
    },
    "kernelspec": {
      "name": "python3",
      "display_name": "Python 3"
    }
  },
  "cells": [
    {
      "cell_type": "code",
      "metadata": {
        "id": "Dzp7SHQbg8i8",
        "outputId": "664f2b70-1c19-4259-b3f4-51ba5bab2ac4",
        "colab": {
          "base_uri": "https://localhost:8080/",
          "height": 207
        }
      },
      "source": [
        "!pip install youtube_dl\n",
        "!pip install SpeechRecognition as sr\n",
        "!pip install nltk\n",
        "!pip install fuzzywuzzy\n",
        "!pip install python-Levenshtein\n",
        "!pip install beautifulsoup4"
      ],
      "execution_count": 16,
      "outputs": [
        {
          "output_type": "stream",
          "text": [
            "Requirement already satisfied: youtube_dl in /usr/local/lib/python3.6/dist-packages (2020.9.20)\n",
            "Requirement already satisfied: SpeechRecognition in /usr/local/lib/python3.6/dist-packages (3.8.1)\n",
            "Requirement already satisfied: as in /usr/local/lib/python3.6/dist-packages (0.1)\n",
            "Requirement already satisfied: sr in /usr/local/lib/python3.6/dist-packages (0.1.0)\n",
            "Requirement already satisfied: nltk in /usr/local/lib/python3.6/dist-packages (3.2.5)\n",
            "Requirement already satisfied: six in /usr/local/lib/python3.6/dist-packages (from nltk) (1.15.0)\n",
            "Requirement already satisfied: fuzzywuzzy in /usr/local/lib/python3.6/dist-packages (0.18.0)\n",
            "Requirement already satisfied: python-Levenshtein in /usr/local/lib/python3.6/dist-packages (0.12.0)\n",
            "Requirement already satisfied: setuptools in /usr/local/lib/python3.6/dist-packages (from python-Levenshtein) (50.3.0)\n",
            "Requirement already satisfied: beautifulsoup4 in /usr/local/lib/python3.6/dist-packages (4.6.3)\n"
          ],
          "name": "stdout"
        }
      ]
    },
    {
      "cell_type": "markdown",
      "metadata": {
        "id": "FFU98RSgXKZI"
      },
      "source": [
        "> # Imports\n",
        "\n"
      ]
    },
    {
      "cell_type": "code",
      "metadata": {
        "id": "gLxqiAmXSCr-"
      },
      "source": [
        "import os\n",
        "import nltk\n",
        "import string\n",
        "import requests\n",
        "import youtube_dl\n",
        "from fuzzywuzzy import fuzz\n",
        "from bs4 import BeautifulSoup\n",
        "import speech_recognition as sr"
      ],
      "execution_count": 18,
      "outputs": []
    },
    {
      "cell_type": "markdown",
      "metadata": {
        "id": "QRyJFd0WgT2K"
      },
      "source": [
        "> # Baixar Video do YouTube"
      ]
    },
    {
      "cell_type": "code",
      "metadata": {
        "id": "wecQpkeVgc-_"
      },
      "source": [
        "diretorio=\"/content/ementa/resources/\"\n",
        "path_name= diretorio + \"filosofia\"\n",
        "typefile = \"wav\"\n",
        "\n",
        "ydl_opts = {\n",
        "        'format': 'bestaudio/best',\n",
        "        'postprocessors': [{\n",
        "            'key': 'FFmpegExtractAudio',\n",
        "            'preferredcodec': typefile,\n",
        "            'preferredquality': '192',\n",
        "        }],\n",
        "        'outtmpl': path_name + '.%(ext)s',\n",
        "    }\n",
        "\n",
        "with youtube_dl.YoutubeDL(params=ydl_opts, auto_init=True) as ydl:\n",
        "  ydl.download([\"https://www.youtube.com/watch?v=JixtlfwvhAA\"])\n",
        "\n",
        "path_name = path_name + '.' + typefile\n"
      ],
      "execution_count": null,
      "outputs": []
    },
    {
      "cell_type": "markdown",
      "metadata": {
        "id": "OUbbLAuaoDan"
      },
      "source": [
        "> # Trascrever Audio\n",
        "\n",
        "\n",
        "### Utilizando **speech_recognition** para transcrição do texto"
      ]
    },
    {
      "cell_type": "code",
      "metadata": {
        "id": "8Jht9zyTpaki",
        "outputId": "1898f961-43ce-41c8-f095-7d67fe351cbe",
        "colab": {
          "base_uri": "https://localhost:8080/",
          "height": 207
        }
      },
      "source": [
        "r = sr.Recognizer()\n",
        "arquivo = sr.AudioFile(path_name)\n",
        "with arquivo as source:\n",
        "  r.adjust_for_ambient_noise(source)\n",
        "\n",
        "  conversacao = \"\"\n",
        "  ocorrencia = 0\n",
        "\n",
        "  for i in range(0, int(source.DURATION)+1, 120):\n",
        "    ocorrencia += 1\n",
        "    print(str(ocorrencia)+'º Laço')\n",
        "    audio = r.record(source, duration=120, offset=0)\n",
        "    conversacao = conversacao + r.recognize_google(audio, language='pt-BR') + ' '\n",
        "\n",
        "  print(conversacao)"
      ],
      "execution_count": 6,
      "outputs": [
        {
          "output_type": "stream",
          "text": [
            "1º Laço\n",
            "2º Laço\n",
            "3º Laço\n",
            "4º Laço\n",
            "5º Laço\n",
            "6º Laço\n",
            "7º Laço\n",
            "8º Laço\n",
            "9º Laço\n",
            "nascido em Londrina Bom dia se me mudei para São Paulo com a família há 52 anos esta cidade que hoje é inóspita em muitas situações mas qualquer outra Ribeirão Preto São José dos Campos né Rio de Janeiro Belo Horizonte Londrina Curitiba Porto Alegre que foi a 50 anos em qualquer uma dessas cidades e sair às 11 horas da noite do trabalho da escola do bar da igreja do clube sem andando para casa sozinha ou sozinho você ouvia passos de outra pessoa se dizer graças a Deus Vem vindo outra pessoa sabe o que a gente é medo de Defunto passava longe de muro de igreja ao cemitério Hoje você sai às 11 horas da noite de casa da escola do bar Senhor me passa de outra pessoa diz meu Deus do céu vem vindo outra pessoa em algum momento a gente se habituou e começou achar que que eu posso fazer a vida é assim eu faço o que eu posso ter Sant porque essa geração que está agora comendo cidade que fazia pode estar fazendo vestibular aqui ela não pode ser formada com a percepção de que a gente Deva adotar a mediocridade como sendo Nossa referência para algumas coisas Isto É deu para passar Claro que não e melhor qualidade que eu dizia a Brito o contrário também que a Capricho sobre hábito exemplo eu viajo bastante essa semana eu tava em Goiânia Anápolis terça-feira em Belo Horizonte na outra tava em Natal estava depois né aliás antes de Fortaleza se pudesse me atividade Hoje eu tô aposentado como professor 10/2012 e escapei na e eu agora tem a possibilidade de ter outras atividades de viagem tudo por isso ao ser convidado né para essa reflexão aqui hoje ficou errado não era possível estar aqui não é com gosto desses intervalos de viagem portanto eu durmo muito em hotel em viagem todos os dias que eu tô viajando eu acordo no hotel De manhã sozinho que é o que é claro espera certa Ao acordar eu tô sozinho primeira coisa que eu faço além de ir ao banheiro usá-lo escovar o dente ela vai no rosto ir pentear o cabelo e a barba para quem não tem ninguém ali comigo mesmo tá porque pentear o cabelo e a barba para mim tá porque que o senhor me doar a não tem ninguém venda Ou vou sair no domingo eu vou para Fábia assistir aparece para fazer uma palestra ela não vou arrumar a cama para que vou usar de novo à noite tem gente que você conhece o que é por isso que ela tem pelo banco de trás do carro Tem tantas coisas naquele banco resíduos alimentares que uma expressão do CSI acharia né indícios da páscoa de 2004 bolachas que estão ali no meio encontrava e quase próximas aquilo que já ia para o museu FAAP aqui Capricho Capricho ontem eu tava observando e pensando Sentado aí puxa vida que falta Tarcísio Meira mostrar que falta Jô Soares mostrar o que falta Natália timber mostrar que falta ele podia dá para o gasto mas não é alguns momentos veio uma Fúria eterna e essa fúria é a folha da arte apenas é claro que ela também mas é a fúria da energia que move uma pessoa que não deseja ser medíocre Cortella se há gerações em ebulição que minha realidade tem a ver com isso muito porque nós precisamos afastar de nós e daqueles que conosco que chegam neste mundo contemporâneo qualquer tipo de atração pela mediocridade em relação a várias Faces do nosso cotidiano claro que há gerações são diversas claro que hoje nós temos por exemplo uma nova geração que está com 1820 anos de idade que tem algo incrível um encantamento pelo passado tanto que eles vão buscar eu uso barba sem tirar faz 42 anos eu tô na moda faz 42 anos que eu não tiro a barba e eu estou na moda outro dia Cláudia fomos ao shopping e no lugar onde havia uma loja de yogurte naturais ou então a barbearia barbearia aquela inclusive do lado de fora com aqueles símbolos antigos que tavam girando onde oferece fazer a barba com toalha navalha uma coisa de mafioso não a loja mas o princípio histórico do cinema e a gente você já imaginou uma parte da nova geração decidiu ser contemporânea além de nós e decidiu fazer algo para mostrar como nós somos ultrapassados que foi fazer cerveja artesanal séculos a humanidade passou para ter uma cerveja gelada no freezer pronta Porque não abre não ele para mostrar que você é antigo e aí ele faz cerveja em casa ele é um grupo de amigo demora vence logo acaba cedo é amarga Mas você vê aí você compra cerveja Você já imaginou que coisa maluca você vai no restaurante hoje em São Paulo almoçar depois que deu menino ou menina fizer o exame e você vai um restaurante que é sofisticado mas é só uma curiosidade tem umas marcas aqui no chão elas são da peça ou da minha apresentação eu não sei se é para eu andar para lá e para cá e da peça tá é porque eu tô olhando agora que tem umas marcas que eu tô fora de quadro ainda ser enquadrado pela diretora do teatro já imaginou Você vai almoçar daqui a pouco e você vai procurar no lugar e o restaurante será tanto mais contemporâneo e portanto mais avançado ele será quase hipster se ele tiver o cardápio escrito com giz na lousa no mundo de eclosão de Tecnologia de mundo digital de leds amor unidade é chegada por meio de uma lousa com giz eu tô dizendo isso por uma razão porque a gente precisa cautela para tomar conclusões apressadas em relação ao que nós temos de fazer a principal marca e tarefa que temos e partilhar com as outras gerações que conosco convivem nessa contemporaneidade é construirmos uma trilha de propósitos e em que a gente não admita mediocridade como sendo nosso Horizonte em qualquer área no âmbito da política da religião da profissão do negócio Claro afinal de contas os caminhos são múltiplos só que a um contributo imenso das Gerações que estão chegando e a um contributo imenso das outras gerações que já estavam Isto é muita gente aqui tem muito mais idade como é o meu caso do que os jovens que entraram na nossa sala de aula ou entra na nossa sala de aula há muita coisa que eu posso contribuir e o contrário também parece Óbvio nem sempre se admite essa percepção de ambos os lados a hoje por parte Como dizia de uma parcela das novas gerações humano certamente ficação do passado alguns por exemplo decidindo e vem fazendo ir buscar suas raízes nos países da onde os seus ancestrais vieram que é uma viagem quase que de natureza ontológica para dar um tempo da filosofia em que se vai para alugar nos avós ou bisavós vieram né Porque nossos avós e bisavós vieram às vezes de outros países como é o caso da quase totalidade de nós aqui mas eles queriam deixar aquele lugar que vieram para trás porque aquilo se alguém vivesse no lugar onde ele pudesse ficar teria ficado E aí o porquê não podia ficar e ao vir que eles vão pensar pois bem uma parte da nova geração vai e busca das suas raízes e é claro que vai buscar as raízes nas Nações onde avós e bisavós viveram porque aquilo dá uma certa identidade no mundo de volatilidade de velocidade superficialidade das relações em que a gente tá num instante e que vez ou outra é preciso deixar claro algumas coisas em que você o tempo todo tá sendo avaliado eu essa semana anteontem em relação a um dos meus filhos por conta até de um debate que tivermos de natureza profissional eu tive que lembrar ele porque às vezes ele esquece e eu também não posso esquecer disso e ela só ele mas eu tive que lembra ele por escrito você não é nem meu anjo isso e nem um avaliador não é você que decide e nem eu tô pedindo para você me avaliar Claro que ele pode falar a mesma coisa para mim não Somos adultos a janela mas você Você tem o direito de fazer você é o pai dele elas são de adultos pressupõe cidade de cuidad claro que a minha responsabilidade a noção de reverência e respeito ela coloca uma outra condição também mas nós hoje temos relações de que o mundo digital por exemplo dos colocou sob perspectiva o tempo todo e o por exemplo só nas redes sociais Escreva um comentário de TV e rádio só Professor o número de pessoas que decidiu que ela pode palpitar sobre minha existência sobre as minhas escolhas minhas opções do que eu falo eu escrevo é imenso Você já imaginou pessoas escrevem dizendo você precisa tirar essa barba Quase que eu respondo de volta o que que você tem com isso eu não sou um servidor público sou uma pessoa publica sempre é só porque é diferente de servidor público um servidor público tem que dar satisfação ele tá sendo remunerado e contratado por uma sociedade para prestar serviço seja no executivo no legislativo no judiciário ele sim tem que dar satisfação a quem é o seu patrão Mas eu sou só uma pessoa pública e de repente as relações apressada se dá onde vários modos e eu não comentário que fiz no rádio na sexta-feira Lembrei hoje o grande tribunal funciona 24 horas é a família você tem grupos de redes sociais com a família é um tribunal de o turno ele funciona 24 horas sem interrupção se tá sendo avaliado jogado não sou eu qualquer um de nós a Ah se você não der Bom dia para todo mundo as 7:12 você deixar algum para trás parece uma ruptura de sangue mas é a mesma pessoa que nunca te procura oferecer nada e o celular tocou hoje a gente Tem identificador de chamada tem seu nome você sabe que a pessoa vai pedir alguma coisa para você ela pode oferecer um saco de manga um litro de jabuticaba só liga para pedir mas se avalia Este jogo é se chateia fica me lembrada o me lembrar de você não responde Bom dia família e nós começamos a repente a nos perder ele nos é dado em algumas trilhas que levam a lugar nenhum e não sobra para nós tempo para aquilo que é importante nós passamos uma boa parte do tempo cuidando urgente E deixamos o importante de lado claro que urgente tem o seu lugar aliás urgente também tem que ser ligado mas ele não pode obscurecer não importante por exemplo o que que é urgente garantir modo de sobrevivência mas não é a Qualquer Custo e que é urgente é você lidar com aquilo que a tua tarefa que Aliás te dar o retorno relacione suas condições mas ela não é exclusiva uma parte de nós se dedica e Tá formando novas gerações com a perspectiva do urgente deixando de lado o importante o que que é importante o importante é aquilo que faz com que a vida tenha propósito Afinal um dia partimos e meu avô é ato de italiano todos os dias quando nossos netos acordar de manhã e ele vivia no interior de São Paulo e quando a gente lá estava eu podia encontrá-la meu avô todos os dias quando ele acordava ele nos perguntava sempre duas coisas e eu passei a vida perguntando isso os meus filhos e agora quando posso perguntar os meus netos todos os dias assim que a gente acordava ele perguntava Quais são os seus planos para o futuro todos os dias isso é irritante por isso não sou obrigado a ter que pensar em futuro e eu só queria aproveitar aquele momento e ele dizia não é para você não aproveitar apenas que não aproveitar o momento isso É como diz o contato calligaris um grande psicanalista italiano é parte da nova geração ela vive hoje como se ela fosse adulto e férias não trabalha não cuida vai ao cinema passeia jantar fora ela viu como se ela fosse um adulto em férias Claro e aí cai numa vasilha confunde desejos com direitos eu quero você tem que me dar você deu é pouco quero mais como se você fosse apenas alguém que tem a obrigação de prover meios condições felicidade e exaurir a tua existência pais e mães Você já viu CTM Claro você sabe filhos pequenos a pais e mães hoje com crianças pequenas que passou domingo hoje o dia inteiro à disposição de seus filhos tentando fazer com que eles têm ocupação usando o argumento curiosismo é porque a gente precisa conviver mas cê acha que meus pais conviviam comigo quanto tempo nas refeições que a gente tirou fora e outros momentos no resto do tempo a gente queria era distância de adulto Aliás era assim que a gente se divertir na ausência de adulto e não com adulto comigo hoje você vai por exemplo um defeito infantil e lá existe uma figura que é necessário até mas que ainda acreditava no século 21 chamado animador de crianças uma geração que precisa de animador vendo 10 anos de idade tá com algum tipo de distúrbio famílias inteiras saem de casa hoje domingo saindo de casa e vamos restaurante comer comida caseira e sair de casa para fazer ela tipo de doença disso gente vamos comer comida caseira vamos bora vai todo mundo sai de casa para comer comida caseira de alguma perturbação psiquiátrica nessa questão somos nós animador de criança crianças 10 anos de idade 12 ela nem tem hormônio ela tem demônio é uma coisa não é de outra natureza aquilo ferve numa outra direção aliás que a professora aqui sabe o que é demônio de hormônio né Não só no ensino médio até na universidade porque a gente tem uma noção hoje de adolescentes estendida parte dos pensadores entendi adolescente como sendo quase 30 anos de idade aí não 17 como ela até pouco tempo já sim trabalho com essa noção de uma adolescente atendida por conta até do tempo nosso médio de vida terça-feira também Ainda bem né uma extensão mas A grande questão meu amor ela Quais são os seus planos para o futuro a outra pergunta é mais densa que que você quer na vida se é o mais rico do cemitério essa frase Não significava não tenha patrimônio não tem a propriedade significava não tenho só isso pense naquilo que serve para tua vida que é curta não é pequena \n"
          ],
          "name": "stdout"
        }
      ]
    },
    {
      "cell_type": "markdown",
      "metadata": {
        "id": "TU8qnpG5-ePU"
      },
      "source": [
        "\n",
        "\n",
        "> # Removendo todas as stopwords e potuações da transcrição\n",
        "\n"
      ]
    },
    {
      "cell_type": "code",
      "metadata": {
        "id": "HixDWR8i-vjh"
      },
      "source": [
        "nltk.download('stopwords')\n",
        "stopwords = nltk.corpus.stopwords.words('portuguese')\n",
        "pontuacao = string.punctuation\n",
        "\n",
        "texto = \"\"\n",
        "for word in conversacao.split(): \n",
        "    if word.lower() not in stopwords:\n",
        "        texto += word.lower() + ' '\n",
        "\n",
        "print(texto)\n"
      ],
      "execution_count": null,
      "outputs": []
    },
    {
      "cell_type": "markdown",
      "metadata": {
        "id": "n8VfNqgPLZL0"
      },
      "source": [
        "\n",
        "\n",
        "> # Similaridade com texto de ementa\n",
        "\n"
      ]
    },
    {
      "cell_type": "code",
      "metadata": {
        "id": "Q50JV2i6Lhpz",
        "outputId": "d1752741-2438-481a-f8fc-71ce19c85f8a",
        "colab": {
          "base_uri": "https://localhost:8080/",
          "height": 34
        }
      },
      "source": [
        "page = requests.get(\"http://dontpad.com/srcascudo\")\n",
        "\n",
        "soup = BeautifulSoup(page.content, 'html.parser')\n",
        "textopage = str(soup.find_all('textarea')).replace('[<textarea id=\"text\">','').replace('</textarea>]', '')\n",
        "\n",
        "ementa = \"\"\n",
        "for word in textopage.split(): \n",
        "    if word.lower() not in stopwords:\n",
        "        ementa += word.lower() + ' '\n",
        "\n",
        "fuzz.partial_ratio(texto, ementa)\n"
      ],
      "execution_count": 27,
      "outputs": [
        {
          "output_type": "execute_result",
          "data": {
            "text/plain": [
              "27"
            ]
          },
          "metadata": {
            "tags": []
          },
          "execution_count": 27
        }
      ]
    }
  ]
}